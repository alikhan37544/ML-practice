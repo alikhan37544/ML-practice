{
  "cells": [
    {
      "cell_type": "code",
      "execution_count": 1,
      "metadata": {
        "id": "nSHnBHcjLtt-"
      },
      "outputs": [],
      "source": [
        "import tensorflow as tf \n",
        "from tensorflow import keras\n",
        "import matplotlib.pyplot as plt \n",
        "import numpy as np"
      ]
    },
    {
      "cell_type": "code",
      "execution_count": 2,
      "metadata": {
        "id": "U4qreLqAL0mi"
      },
      "outputs": [],
      "source": [
        "(x_train,y_train),(x_test,y_test)= tf.keras.datasets.fashion_mnist.load_data()"
      ]
    },
    {
      "cell_type": "code",
      "execution_count": 3,
      "metadata": {
        "id": "L7Au6S2rL5wz"
      },
      "outputs": [],
      "source": [
        "import sklearn\n",
        "from sklearn.model_selection import train_test_split"
      ]
    },
    {
      "cell_type": "code",
      "execution_count": 4,
      "metadata": {
        "id": "ZGjOSJ74L8I8"
      },
      "outputs": [],
      "source": [
        "x_train,x_val,y_train,y_val = train_test_split(x_train,y_train,test_size=0.10,random_state=1)"
      ]
    },
    {
      "cell_type": "code",
      "execution_count": 5,
      "metadata": {
        "colab": {
          "base_uri": "https://localhost:8080/"
        },
        "id": "ajSlTPkPMa1K",
        "outputId": "2e47418c-883b-4276-9c33-8f93ffe76f48"
      },
      "outputs": [
        {
          "name": "stdout",
          "output_type": "stream",
          "text": [
            "(54000, 28, 28)\n",
            "(10000, 28, 28)\n",
            "(6000, 28, 28)\n",
            "(54000,)\n",
            "(10000,)\n",
            "(6000,)\n"
          ]
        }
      ],
      "source": [
        "print(x_train.shape)\n",
        "print(x_test.shape)\n",
        "print(x_val.shape)\n",
        "print(y_train.shape)\n",
        "print(y_test.shape)\n",
        "print(y_val.shape)\n"
      ]
    },
    {
      "cell_type": "code",
      "execution_count": 6,
      "metadata": {
        "id": "GEsN_nWVMbk8"
      },
      "outputs": [],
      "source": [
        "x_train  = x_train.reshape(54000,28,28,1)\n",
        "x_test  = x_test.reshape(10000,28,28,1)\n",
        "x_val  = x_val.reshape(6000,28,28,1)"
      ]
    },
    {
      "cell_type": "code",
      "execution_count": 7,
      "metadata": {
        "colab": {
          "base_uri": "https://localhost:8080/"
        },
        "id": "wzIVgLxBMfiv",
        "outputId": "79bf865b-b51a-4e09-94bb-647a3e18771f"
      },
      "outputs": [
        {
          "name": "stdout",
          "output_type": "stream",
          "text": [
            "(54000, 28, 28, 1)\n",
            "(10000, 28, 28, 1)\n",
            "(6000, 28, 28, 1)\n",
            "(54000,)\n",
            "(10000,)\n",
            "(6000,)\n"
          ]
        }
      ],
      "source": [
        "print(x_train.shape)\n",
        "print(x_test.shape)\n",
        "print(x_val.shape)\n",
        "print(y_train.shape)\n",
        "print(y_test.shape)\n",
        "print(y_val.shape)"
      ]
    },
    {
      "cell_type": "code",
      "execution_count": 8,
      "metadata": {
        "id": "dKeqm_W4MPaw"
      },
      "outputs": [],
      "source": [
        "label = ['T-shirt/top','Trouser','Pullover','Dress','Coat','Sandal','Shirt','Sneaker','Bag','Ankle-boot']"
      ]
    },
    {
      "cell_type": "code",
      "execution_count": 9,
      "metadata": {
        "colab": {
          "base_uri": "https://localhost:8080/"
        },
        "id": "wNM0B9eOMV7q",
        "outputId": "2150523b-9242-4eff-f06e-059db3290ed9"
      },
      "outputs": [
        {
          "name": "stdout",
          "output_type": "stream",
          "text": [
            "0\n",
            "255\n"
          ]
        }
      ],
      "source": [
        "print(x_train[3].min())\n",
        "print(x_train[3].max())"
      ]
    },
    {
      "cell_type": "code",
      "execution_count": 10,
      "metadata": {
        "id": "wwKRFvq5MntL"
      },
      "outputs": [],
      "source": [
        "x_train = x_train/255\n",
        "x_test = x_test/255\n",
        "x_val = x_val/255"
      ]
    },
    {
      "cell_type": "code",
      "execution_count": 11,
      "metadata": {
        "colab": {
          "base_uri": "https://localhost:8080/"
        },
        "id": "wLqFSHs0MqTN",
        "outputId": "de1551b7-58f1-4386-faab-02c5d3f4eb5a"
      },
      "outputs": [
        {
          "name": "stdout",
          "output_type": "stream",
          "text": [
            "0.0\n",
            "1.0\n"
          ]
        }
      ],
      "source": [
        "print(x_train[3].min())\n",
        "print(x_train[3].max())"
      ]
    },
    {
      "cell_type": "code",
      "execution_count": 12,
      "metadata": {
        "colab": {
          "base_uri": "https://localhost:8080/"
        },
        "id": "Nievc5qWMsO6",
        "outputId": "e6954114-9876-42a0-b58d-58eceb83630b"
      },
      "outputs": [
        {
          "data": {
            "text/plain": [
              "(54000, 28, 28, 1)"
            ]
          },
          "execution_count": 12,
          "metadata": {},
          "output_type": "execute_result"
        }
      ],
      "source": [
        "[x_train][0].shape"
      ]
    },
    {
      "cell_type": "code",
      "execution_count": 13,
      "metadata": {
        "colab": {
          "base_uri": "https://localhost:8080/"
        },
        "id": "2apUJF0oMu6p",
        "outputId": "ad999b75-8f5f-47bb-a261-7d9cd7247dd2"
      },
      "outputs": [
        {
          "data": {
            "text/plain": [
              "()"
            ]
          },
          "execution_count": 13,
          "metadata": {},
          "output_type": "execute_result"
        }
      ],
      "source": [
        "y_train[0].shape"
      ]
    },
    {
      "cell_type": "markdown",
      "metadata": {
        "id": "gJobYTjQMzrO"
      },
      "source": [
        "MODEL"
      ]
    },
    {
      "cell_type": "code",
      "execution_count": 14,
      "metadata": {
        "id": "etpC7qniMxi9"
      },
      "outputs": [],
      "source": [
        "model2 = tf.keras.models.Sequential()"
      ]
    },
    {
      "cell_type": "code",
      "execution_count": 15,
      "metadata": {
        "id": "spjiis3uNOGX"
      },
      "outputs": [],
      "source": [
        "#rules to define neurons for the hidden layer\n",
        "# neurons between 10 and 784\n",
        "\n",
        "\n",
        "model2.add(keras.layers.Flatten(input_shape = x_train[0].shape))\n",
        "model2.add(keras.layers.Dense(532 , activation = 'relu'))\n",
        "model2.add(keras.layers.Dense(10 , activation = 'Softmax'))"
      ]
    },
    {
      "cell_type": "code",
      "execution_count": 16,
      "metadata": {
        "id": "CLBEUX32N9WF"
      },
      "outputs": [],
      "source": [
        "model2.compile(optimizer = 'SGD', loss = tf.keras.losses.SparseCategoricalCrossentropy() , metrics = ['accuracy'])"
      ]
    },
    {
      "cell_type": "code",
      "execution_count": 17,
      "metadata": {
        "colab": {
          "base_uri": "https://localhost:8080/"
        },
        "id": "U7BUSaZ-OaUk",
        "outputId": "f3f5e893-b211-4aae-d9e7-766b71f69115"
      },
      "outputs": [
        {
          "name": "stdout",
          "output_type": "stream",
          "text": [
            "Epoch 1/20\n",
            "313/313 [==============================] - 2s 5ms/step - loss: 1.1572 - accuracy: 0.6454 - val_loss: 0.8410 - val_accuracy: 0.7187\n",
            "Epoch 2/20\n",
            "313/313 [==============================] - 2s 5ms/step - loss: 0.7526 - accuracy: 0.7489 - val_loss: 0.7424 - val_accuracy: 0.7432\n",
            "Epoch 3/20\n",
            "313/313 [==============================] - 1s 5ms/step - loss: 0.6597 - accuracy: 0.7813 - val_loss: 0.6518 - val_accuracy: 0.7835\n",
            "Epoch 4/20\n",
            "313/313 [==============================] - 2s 5ms/step - loss: 0.6096 - accuracy: 0.7940 - val_loss: 0.6055 - val_accuracy: 0.8047\n",
            "Epoch 5/20\n",
            "313/313 [==============================] - 2s 5ms/step - loss: 0.5760 - accuracy: 0.8089 - val_loss: 0.5778 - val_accuracy: 0.8110\n",
            "Epoch 6/20\n",
            "313/313 [==============================] - 2s 5ms/step - loss: 0.5514 - accuracy: 0.8141 - val_loss: 0.5636 - val_accuracy: 0.8123\n",
            "Epoch 7/20\n",
            "313/313 [==============================] - 1s 5ms/step - loss: 0.5338 - accuracy: 0.8213 - val_loss: 0.5534 - val_accuracy: 0.8142\n",
            "Epoch 8/20\n",
            "313/313 [==============================] - 2s 5ms/step - loss: 0.5172 - accuracy: 0.8251 - val_loss: 0.5310 - val_accuracy: 0.8225\n",
            "Epoch 9/20\n",
            "313/313 [==============================] - 1s 5ms/step - loss: 0.5043 - accuracy: 0.8265 - val_loss: 0.5419 - val_accuracy: 0.8183\n",
            "Epoch 10/20\n",
            "313/313 [==============================] - 2s 5ms/step - loss: 0.4922 - accuracy: 0.8304 - val_loss: 0.5089 - val_accuracy: 0.8268\n",
            "Epoch 11/20\n",
            "313/313 [==============================] - 1s 5ms/step - loss: 0.4849 - accuracy: 0.8325 - val_loss: 0.5046 - val_accuracy: 0.8268\n",
            "Epoch 12/20\n",
            "313/313 [==============================] - 2s 5ms/step - loss: 0.4740 - accuracy: 0.8362 - val_loss: 0.4918 - val_accuracy: 0.8302\n",
            "Epoch 13/20\n",
            "313/313 [==============================] - 2s 5ms/step - loss: 0.4695 - accuracy: 0.8355 - val_loss: 0.4864 - val_accuracy: 0.8308\n",
            "Epoch 14/20\n",
            "313/313 [==============================] - 2s 5ms/step - loss: 0.4600 - accuracy: 0.8413 - val_loss: 0.4935 - val_accuracy: 0.8312\n",
            "Epoch 15/20\n",
            "313/313 [==============================] - 2s 5ms/step - loss: 0.4541 - accuracy: 0.8441 - val_loss: 0.4833 - val_accuracy: 0.8328\n",
            "Epoch 16/20\n",
            "313/313 [==============================] - 2s 5ms/step - loss: 0.4477 - accuracy: 0.8464 - val_loss: 0.4728 - val_accuracy: 0.8365\n",
            "Epoch 17/20\n",
            "313/313 [==============================] - 2s 5ms/step - loss: 0.4411 - accuracy: 0.8446 - val_loss: 0.4928 - val_accuracy: 0.8290\n",
            "Epoch 18/20\n",
            "313/313 [==============================] - 2s 5ms/step - loss: 0.4356 - accuracy: 0.8505 - val_loss: 0.4764 - val_accuracy: 0.8352\n",
            "Epoch 19/20\n",
            "313/313 [==============================] - 2s 5ms/step - loss: 0.4303 - accuracy: 0.8511 - val_loss: 0.5027 - val_accuracy: 0.8117\n",
            "Epoch 20/20\n",
            "313/313 [==============================] - 2s 6ms/step - loss: 0.4228 - accuracy: 0.8532 - val_loss: 0.4822 - val_accuracy: 0.8307\n"
          ]
        }
      ],
      "source": [
        "history = model2.fit(x_test,y_test , validation_data = (x_val,y_val) , epochs = 20)"
      ]
    },
    {
      "cell_type": "code",
      "execution_count": 18,
      "metadata": {
        "colab": {
          "base_uri": "https://localhost:8080/"
        },
        "id": "54AzQLQgR_c8",
        "outputId": "482d7e16-e7c0-4b0f-a48c-810b286bc8f5"
      },
      "outputs": [
        {
          "data": {
            "text/plain": [
              "[0.44044554233551025, 0.8450999855995178]"
            ]
          },
          "execution_count": 18,
          "metadata": {},
          "output_type": "execute_result"
        }
      ],
      "source": [
        "model2.evaluate(x_test,y_test , verbose = '1')"
      ]
    },
    {
      "cell_type": "code",
      "execution_count": 19,
      "metadata": {
        "id": "G5N8KANGSwlN"
      },
      "outputs": [],
      "source": [
        "model2.save(\"model2.hdf5\")"
      ]
    },
    {
      "cell_type": "code",
      "execution_count": 20,
      "metadata": {
        "id": "4MyZvc8uTFL_"
      },
      "outputs": [],
      "source": [
        "import matplotlib.pyplot as plt\n",
        "\n",
        "\n",
        "def plot_hist(hist):\n",
        "    plt.plot(hist.history[\"loss\"])\n",
        "    plt.plot(hist.history[\"val_loss\"])\n",
        "    plt.title(\"loss\")\n",
        "    plt.ylabel(\"loss\")\n",
        "    plt.xlabel(\"epoch\")\n",
        "    plt.legend([\"train\", \"validation\"], loc=\"upper left\")\n",
        "    plt.show()"
      ]
    },
    {
      "cell_type": "code",
      "execution_count": 21,
      "metadata": {
        "id": "AjqYUj29TGRq"
      },
      "outputs": [
        {
          "data": {
            "image/png": "[encoded data removed]",
            "text/plain": [
              "<Figure size 640x480 with 1 Axes>"
            ]
          },
          "metadata": {},
          "output_type": "display_data"
        }
      ],
      "source": [
        "plot_hist(history)"
      ]
    },
    {
      "cell_type": "code",
      "execution_count": 22,
      "metadata": {},
      "outputs": [
        {
          "ename": "error",
          "evalue": "OpenCV(4.6.0) :-1: error: (-5:Bad argument) in function 'imshow'\n> Overload resolution failed:\n>  - imshow() missing required argument 'winname' (pos 1)\n>  - imshow() missing required argument 'winname' (pos 1)\n>  - imshow() missing required argument 'winname' (pos 1)\n",
          "output_type": "error",
          "traceback": [
            "\u001b[1;31m---------------------------------------------------------------------------\u001b[0m",
            "\u001b[1;31merror\u001b[0m                                     Traceback (most recent call last)",
            "Cell \u001b[1;32mIn [22], line 3\u001b[0m\n\u001b[0;32m      1\u001b[0m \u001b[39mimport\u001b[39;00m \u001b[39mcv2\u001b[39;00m \u001b[39mas\u001b[39;00m \u001b[39mcv\u001b[39;00m\n\u001b[1;32m----> 3\u001b[0m cv\u001b[39m.\u001b[39;49mimshow()\n",
            "\u001b[1;31merror\u001b[0m: OpenCV(4.6.0) :-1: error: (-5:Bad argument) in function 'imshow'\n> Overload resolution failed:\n>  - imshow() missing required argument 'winname' (pos 1)\n>  - imshow() missing required argument 'winname' (pos 1)\n>  - imshow() missing required argument 'winname' (pos 1)\n"
          ]
        }
      ],
      "source": [
        "import cv2 as cv\n",
        "\n",
        "cv.imshow()\n"
      ]
    },
    {
      "cell_type": "code",
      "execution_count": null,
      "metadata": {},
      "outputs": [],
      "source": []
    }
  ],
  "metadata": {
    "accelerator": "GPU",
    "colab": {
      "provenance": []
    },
    "kernelspec": {
      "display_name": "Python 3.10.8 64-bit (microsoft store)",
      "language": "python",
      "name": "python3"
    },
    "language_info": {
      "codemirror_mode": {
        "name": "ipython",
        "version": 3
      },
      "file_extension": ".py",
      "mimetype": "text/x-python",
      "name": "python",
      "nbconvert_exporter": "python",
      "pygments_lexer": "ipython3",
      "version": "3.10.10"
    },
    "vscode": {
      "interpreter": {
        "hash": "486e0d5a79acdbfffd563ee7a67a93a5017bd2a4f66495483a69f0245c8a4a6c"
      }
    }
  },
  "nbformat": 4,
  "nbformat_minor": 0
}
